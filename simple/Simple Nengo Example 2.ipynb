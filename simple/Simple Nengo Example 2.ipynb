{
 "cells": [
  {
   "cell_type": "code",
   "execution_count": 1,
   "metadata": {
    "collapsed": true
   },
   "outputs": [],
   "source": [
    "%matplotlib inline\n",
    "import matplotlib.pyplot as plt\n",
    "import nengo\n",
    "import numpy as np"
   ]
  },
  {
   "cell_type": "code",
   "execution_count": 2,
   "metadata": {
    "collapsed": true
   },
   "outputs": [],
   "source": [
    "model = nengo.Network(seed=1)\n",
    "with model:\n",
    "    people = nengo.Ensemble(n_neurons=500, dimensions=3,\n",
    "                            neuron_type = nengo.LIFRate(),\n",
    "                            radius=2)\n",
    "    \n",
    "    stim = nengo.Node([0.7,  # probability \n",
    "                       1.0,  # value\n",
    "                       0.0,  # decision\n",
    "                      ])\n",
    "    \n",
    "    decision = nengo.Node(None, size_in=1)\n",
    "    nengo.Connection(stim, people)\n",
    "    \n",
    "    def decision_rule(x):\n",
    "        return x[2]\n",
    "    \n",
    "    nengo.Connection(people, decision, function=decision_rule)\n",
    "    \n",
    "    def gossip(x):\n",
    "        expected_value = max(x[0],0)*x[1]\n",
    "        if expected_value > 0.5:\n",
    "            decide = 1.0\n",
    "        else:\n",
    "            decide = -1.0\n",
    "        return 0, 0, decide + x[2]\n",
    "    nengo.Connection(people, people, function=gossip, synapse=0.1)\n",
    "    \n",
    "    p_decision = nengo.Probe(decision, synapse=0.0)\n",
    "    p_belief = nengo.Probe(people, synapse=0.0)\n",
    "    \n",
    "    "
   ]
  },
  {
   "cell_type": "code",
   "execution_count": 3,
   "metadata": {},
   "outputs": [
    {
     "data": {
      "application/vdom.v1+json": {
       "attributes": {},
       "tagName": "div"
      },
      "text/html": [
       "\n",
       "                <script>\n",
       "                    if (Jupyter.version.split(\".\")[0] < 5) {\n",
       "                        var pb = document.getElementById(\"45a5d2af-3c1a-482f-aa63-ac2824a32f56\");\n",
       "                        var text = document.createTextNode(\n",
       "                            \"HMTL progress bar requires Jupyter Notebook >= \" +\n",
       "                            \"5.0 or Jupyter Lab. Alternatively, you can use \" +\n",
       "                            \"TerminalProgressBar().\");\n",
       "                        pb.parentNode.insertBefore(text, pb);\n",
       "                    }\n",
       "                </script>\n",
       "                <div id=\"45a5d2af-3c1a-482f-aa63-ac2824a32f56\" style=\"\n",
       "                    width: 100%;\n",
       "                    border: 1px solid #cfcfcf;\n",
       "                    border-radius: 4px;\n",
       "                    text-align: center;\n",
       "                    position: relative;\">\n",
       "                  <div class=\"pb-text\" style=\"\n",
       "                      position: absolute;\n",
       "                      width: 100%;\">\n",
       "                    0%\n",
       "                  </div>\n",
       "                  <div class=\"pb-fill\" style=\"\n",
       "                      background-color: #bdd2e6;\n",
       "                      width: 0%;\">\n",
       "                    <style type=\"text/css\" scoped=\"scoped\">\n",
       "                        @keyframes pb-fill-anim {\n",
       "                            0% { background-position: 0 0; }\n",
       "                            100% { background-position: 100px 0; }\n",
       "                        }\n",
       "                    </style>\n",
       "                    &nbsp;\n",
       "                  </div>\n",
       "                </div>"
      ],
      "text/plain": [
       "HtmlProgressBar cannot be displayed. Please use the TerminalProgressBar. It can be enabled with `nengo.rc.set('progress', 'progress_bar', 'nengo.utils.progress.TerminalProgressBar')`."
      ]
     },
     "metadata": {},
     "output_type": "display_data"
    },
    {
     "data": {
      "application/javascript": [
       "\n",
       "              (function () {\n",
       "                  var root = document.getElementById('45a5d2af-3c1a-482f-aa63-ac2824a32f56');\n",
       "                  var text = root.getElementsByClassName('pb-text')[0];\n",
       "                  var fill = root.getElementsByClassName('pb-fill')[0];\n",
       "\n",
       "                  text.innerHTML = 'Build finished in 0:00:01.';\n",
       "                  \n",
       "            fill.style.width = '100%';\n",
       "            fill.style.animation = 'pb-fill-anim 2s linear infinite';\n",
       "            fill.style.backgroundSize = '100px 100%';\n",
       "            fill.style.backgroundImage = 'repeating-linear-gradient(' +\n",
       "                '90deg, #bdd2e6, #edf2f8 40%, #bdd2e6 80%, #bdd2e6)';\n",
       "        \n",
       "                  \n",
       "                fill.style.animation = 'none';\n",
       "                fill.style.backgroundImage = 'none';\n",
       "            \n",
       "              })();\n",
       "        "
      ],
      "application/vdom.v1+json": {
       "attributes": {
        "id": "a5ceae81-36e8-4543-a29d-61ae29b428d2",
        "style": {
         "border": "1px solid #cfcfcf",
         "borderRadius": "4px",
         "boxSizing": "border-box",
         "position": "relative",
         "textAlign": "center",
         "width": "100%"
        }
       },
       "children": [
        {
         "attributes": {
          "class": "pb-text",
          "style": {
           "position": "absolute",
           "width": "100%"
          }
         },
         "children": [
          "Build finished in 0:00:01."
         ],
         "tagName": "div"
        },
        {
         "attributes": {
          "class": "pb-fill",
          "style": {
           "animation": "none",
           "backgroundColor": "#bdd2e6",
           "backgroundImage": "none",
           "backgroundSize": "100px 100%",
           "width": "100%"
          }
         },
         "children": [
          {
           "attributes": {
            "scoped": "scoped",
            "type": "text/css"
           },
           "children": [
            "\n                        @keyframes pb-fill-anim {\n                            0% { background-position: 0 0; }\n                            100% { background-position: 100px 0; }\n                        }}"
           ],
           "tagName": "style"
          },
          " "
         ],
         "tagName": "div"
        }
       ],
       "tagName": "div"
      }
     },
     "metadata": {},
     "output_type": "display_data"
    },
    {
     "data": {
      "application/vdom.v1+json": {
       "attributes": {},
       "tagName": "div"
      },
      "text/html": [
       "\n",
       "                <script>\n",
       "                    if (Jupyter.version.split(\".\")[0] < 5) {\n",
       "                        var pb = document.getElementById(\"62210701-ce11-4684-a249-39a9eeeeadac\");\n",
       "                        var text = document.createTextNode(\n",
       "                            \"HMTL progress bar requires Jupyter Notebook >= \" +\n",
       "                            \"5.0 or Jupyter Lab. Alternatively, you can use \" +\n",
       "                            \"TerminalProgressBar().\");\n",
       "                        pb.parentNode.insertBefore(text, pb);\n",
       "                    }\n",
       "                </script>\n",
       "                <div id=\"62210701-ce11-4684-a249-39a9eeeeadac\" style=\"\n",
       "                    width: 100%;\n",
       "                    border: 1px solid #cfcfcf;\n",
       "                    border-radius: 4px;\n",
       "                    text-align: center;\n",
       "                    position: relative;\">\n",
       "                  <div class=\"pb-text\" style=\"\n",
       "                      position: absolute;\n",
       "                      width: 100%;\">\n",
       "                    0%\n",
       "                  </div>\n",
       "                  <div class=\"pb-fill\" style=\"\n",
       "                      background-color: #bdd2e6;\n",
       "                      width: 0%;\">\n",
       "                    <style type=\"text/css\" scoped=\"scoped\">\n",
       "                        @keyframes pb-fill-anim {\n",
       "                            0% { background-position: 0 0; }\n",
       "                            100% { background-position: 100px 0; }\n",
       "                        }\n",
       "                    </style>\n",
       "                    &nbsp;\n",
       "                  </div>\n",
       "                </div>"
      ],
      "text/plain": [
       "HtmlProgressBar cannot be displayed. Please use the TerminalProgressBar. It can be enabled with `nengo.rc.set('progress', 'progress_bar', 'nengo.utils.progress.TerminalProgressBar')`."
      ]
     },
     "metadata": {},
     "output_type": "display_data"
    },
    {
     "data": {
      "application/javascript": [
       "\n",
       "              (function () {\n",
       "                  var root = document.getElementById('62210701-ce11-4684-a249-39a9eeeeadac');\n",
       "                  var text = root.getElementsByClassName('pb-text')[0];\n",
       "                  var fill = root.getElementsByClassName('pb-fill')[0];\n",
       "\n",
       "                  text.innerHTML = 'Simulation finished in 0:00:01.';\n",
       "                  \n",
       "            if (100.0 > 0.) {\n",
       "                fill.style.transition = 'width 0.1s linear';\n",
       "            } else {\n",
       "                fill.style.transition = 'none';\n",
       "            }\n",
       "\n",
       "            fill.style.width = '100.0%';\n",
       "            fill.style.animation = 'none';\n",
       "            fill.style.backgroundImage = 'none'\n",
       "        \n",
       "                  \n",
       "                fill.style.animation = 'none';\n",
       "                fill.style.backgroundImage = 'none';\n",
       "            \n",
       "              })();\n",
       "        "
      ],
      "application/vdom.v1+json": {
       "attributes": {
        "id": "0f423578-5ea0-4c85-8100-7f2fcbf3f002",
        "style": {
         "border": "1px solid #cfcfcf",
         "borderRadius": "4px",
         "boxSizing": "border-box",
         "position": "relative",
         "textAlign": "center",
         "width": "100%"
        }
       },
       "children": [
        {
         "attributes": {
          "class": "pb-text",
          "style": {
           "position": "absolute",
           "width": "100%"
          }
         },
         "children": [
          "Simulation finished in 0:00:01."
         ],
         "tagName": "div"
        },
        {
         "attributes": {
          "class": "pb-fill",
          "style": {
           "animation": "none",
           "backgroundColor": "#bdd2e6",
           "backgroundImage": "none",
           "transition": "width 0.1s linear",
           "width": "100%"
          }
         },
         "children": [
          {
           "attributes": {
            "scoped": "scoped",
            "type": "text/css"
           },
           "children": [
            "\n                        @keyframes pb-fill-anim {\n                            0% { background-position: 0 0; }\n                            100% { background-position: 100px 0; }\n                        }}"
           ],
           "tagName": "style"
          },
          " "
         ],
         "tagName": "div"
        }
       ],
       "tagName": "div"
      }
     },
     "metadata": {},
     "output_type": "display_data"
    }
   ],
   "source": [
    "sim = nengo.Simulator(model)\n",
    "with sim:\n",
    "    sim.run(2.0)\n"
   ]
  },
  {
   "cell_type": "code",
   "execution_count": 4,
   "metadata": {},
   "outputs": [
    {
     "data": {
      "text/plain": [
       "<matplotlib.legend.Legend at 0x1fa93764a90>"
      ]
     },
     "execution_count": 4,
     "metadata": {},
     "output_type": "execute_result"
    },
    {
     "data": {
      "image/png": "[encoded data removed]",
      "text/plain": [
       "<matplotlib.figure.Figure at 0x1fa92c2b6a0>"
      ]
     },
     "metadata": {},
     "output_type": "display_data"
    }
   ],
   "source": [
    "plt.plot(sim.trange(), sim.data[p_decision], label='decision')\n",
    "plt.plot(sim.trange(), sim.data[p_belief][:,0], label='belief prob')\n",
    "plt.plot(sim.trange(), sim.data[p_belief][:,1], label='belief value')\n",
    "plt.ylim(-1.5, 1.5)\n",
    "plt.legend()"
   ]
  },
  {
   "cell_type": "code",
   "execution_count": 5,
   "metadata": {},
   "outputs": [
    {
     "data": {
      "text/html": [
       "\n",
       "            <script type=\"text/javascript\" id=\"15549dc7-a726-4b60-8aaf-a52e78481ae4\">\n",
       "            {\n",
       "                let req = new XMLHttpRequest();\n",
       "                req.addEventListener(\"load\", function() {\n",
       "                    if (this.status != 200 && this.response != 'OK') {\n",
       "                        let p = document.getElementById('15549dc7-a726-4b60-8aaf-a52e78481ae4').parentNode;\n",
       "                        p.innerHTML +=\n",
       "                            'The nengo_gui.jupyter notebook server ' +\n",
       "                            'extension was not loaded. Please activate it ' +\n",
       "                            'with the following command:' +\n",
       "                            '<pre>jupyter serverextension enable ' +\n",
       "                            'nengo_gui.jupyter</pre>';\n",
       "                        p.classList.add('output_stderr');\n",
       "                    }\n",
       "                });\n",
       "                req.open('GET', './nengo/check', true);\n",
       "                req.send();\n",
       "            }\n",
       "            </script>\n",
       "        "
      ],
      "text/plain": [
       "<IPython.core.display.HTML object>"
      ]
     },
     "metadata": {},
     "output_type": "display_data"
    },
    {
     "data": {
      "application/vdom.v1+json": {
       "attributes": {
        "id": "4270a144-9a20-4fb3-9ef0-c08aef629ec5"
       },
       "children": [
        {
         "attributes": {
          "allowfullscreen": "allowfullscreen",
          "class": "cell",
          "frameborder": "0",
          "height": "600",
          "src": "./nengo/64539/?token=8e3cd401b0b4176118ea2cfd0d8494a56827770cf066f371",
          "style": {
           "border": "1px solid #eee",
           "boxSizing": "border-box"
          },
          "width": "100%"
         },
         "tagName": "iframe"
        }
       ],
       "tagName": "div"
      },
      "text/html": [
       "\n",
       "                <div id=\"6bc91d38-72f1-498b-a6e4-8b1f2d0dbaf6\">\n",
       "                    <iframe\n",
       "                        src=\"./nengo/64539/?token=8e3cd401b0b4176118ea2cfd0d8494a56827770cf066f371\"\n",
       "                        width=\"100%\"\n",
       "                        height=\"600\"\n",
       "                        frameborder=\"0\"\n",
       "                        class=\"cell\"\n",
       "                        style=\"border: 1px solid #eee; box-sizing: border-box;\"\n",
       "                        allowfullscreen></iframe>\n",
       "                </div>\n",
       "            "
      ]
     },
     "metadata": {},
     "output_type": "display_data"
    }
   ],
   "source": [
    "import nengo_gui.ipython\n",
    "nengo_gui.ipython.IPythonViz(model)"
   ]
  },
  {
   "cell_type": "code",
   "execution_count": null,
   "metadata": {
    "collapsed": true
   },
   "outputs": [],
   "source": []
  }
 ],
 "metadata": {
  "kernelspec": {
   "display_name": "Python 3",
   "language": "python",
   "name": "python3"
  },
  "language_info": {
   "codemirror_mode": {
    "name": "ipython",
    "version": 3
   },
   "file_extension": ".py",
   "mimetype": "text/x-python",
   "name": "python",
   "nbconvert_exporter": "python",
   "pygments_lexer": "ipython3",
   "version": "3.6.1"
  }
 },
 "nbformat": 4,
 "nbformat_minor": 2
}
