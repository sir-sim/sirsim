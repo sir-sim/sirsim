{
 "cells": [
  {
   "cell_type": "code",
   "execution_count": 1,
   "metadata": {
    "collapsed": true
   },
   "outputs": [],
   "source": [
    "%matplotlib inline\n",
    "import matplotlib.pyplot as plt\n",
    "import nengo\n",
    "import numpy as np"
   ]
  },
  {
   "cell_type": "code",
   "execution_count": 177,
   "metadata": {},
   "outputs": [],
   "source": [
    "model = nengo.Network(seed=1)\n",
    "with model:\n",
    "    people = nengo.Ensemble(n_neurons=300, dimensions=2,\n",
    "                            neuron_type = nengo.LIFRate(),\n",
    "                            radius=2)\n",
    "    \n",
    "    stim = nengo.Node([0.6,  # probability \n",
    "                       0.3  # value\n",
    "                      ])\n",
    "    \n",
    "    decision = nengo.Node(None, size_in=1)\n",
    "    nengo.Connection(stim, people)\n",
    "    \n",
    "    def decision_rule(x):\n",
    "        expected_value = max(x[0],0)*x[1]\n",
    "        if expected_value > 0.5:\n",
    "            return 1\n",
    "        else:\n",
    "            return -1\n",
    "    \n",
    "    nengo.Connection(people, decision, function=decision_rule)\n",
    "    \n",
    "    def gossip(x):\n",
    "        expected_value = max(x[0],0)*x[1]\n",
    "        prob = x[0]\n",
    "        if expected_value > 0.5:\n",
    "            new_prob = prob + 0.5\n",
    "        else:\n",
    "            new_prob = max(prob - 0.5, 0)\n",
    "        return new_prob, 0\n",
    "    nengo.Connection(people, people, function=gossip, synapse=0.1)\n",
    "    \n",
    "    p_decision = nengo.Probe(decision, synapse=0.0)\n",
    "    p_belief = nengo.Probe(people, synapse=0.0)\n",
    "    \n",
    "    "
   ]
  },
  {
   "cell_type": "code",
   "execution_count": 178,
   "metadata": {},
   "outputs": [
    {
     "data": {
      "text/html": [
       "\n",
       "                <div id=\"83291295-9ca5-4903-8351-61c6a3c2bffc\" style=\"\n",
       "                    width: 100%;\n",
       "                    border: 1px solid #cfcfcf;\n",
       "                    border-radius: 4px;\n",
       "                    text-align: center;\n",
       "                    position: relative;\">\n",
       "                  <div class=\"pb-text\" style=\"\n",
       "                      position: absolute;\n",
       "                      width: 100%;\">\n",
       "                    0%\n",
       "                  </div>\n",
       "                  <div class=\"pb-fill\" style=\"\n",
       "                      background-color: #bdd2e6;\n",
       "                      width: 0%;\">\n",
       "                    <style type=\"text/css\" scoped=\"scoped\">\n",
       "                        @keyframes pb-fill-anim {\n",
       "                            0% { background-position: 0 0; }\n",
       "                            100% { background-position: 100px 0; }\n",
       "                        }\n",
       "                    </style>\n",
       "                    &nbsp;\n",
       "                  </div>\n",
       "                </div>"
      ],
      "text/plain": [
       "HtmlProgressBar cannot be displayed. Please use the TerminalProgressBar. It can be enabled with `nengo.rc.set('progress', 'progress_bar', 'nengo.utils.progress.TerminalProgressBar')`."
      ]
     },
     "metadata": {},
     "output_type": "display_data"
    },
    {
     "data": {
      "application/javascript": [
       "\n",
       "              (function () {\n",
       "                  var root = document.getElementById('83291295-9ca5-4903-8351-61c6a3c2bffc');\n",
       "                  var text = root.getElementsByClassName('pb-text')[0];\n",
       "                  var fill = root.getElementsByClassName('pb-fill')[0];\n",
       "\n",
       "                  text.innerHTML = 'Build finished in 0:00:01.';\n",
       "                  \n",
       "            fill.style.width = '100%';\n",
       "            fill.style.animation = 'pb-fill-anim 2s linear infinite';\n",
       "            fill.style.backgroundSize = '100px 100%';\n",
       "            fill.style.backgroundImage = 'repeating-linear-gradient(' +\n",
       "                '90deg, #bdd2e6, #edf2f8 40%, #bdd2e6 80%, #bdd2e6)';\n",
       "        \n",
       "                  \n",
       "                fill.style.animation = 'none';\n",
       "                fill.style.backgroundImage = 'none';\n",
       "            \n",
       "              })();\n",
       "        "
      ],
      "text/plain": [
       "<IPython.core.display.Javascript object>"
      ]
     },
     "metadata": {},
     "output_type": "display_data"
    },
    {
     "data": {
      "text/html": [
       "\n",
       "                <div id=\"13ca051b-369e-42e6-9942-6eb27c34b55f\" style=\"\n",
       "                    width: 100%;\n",
       "                    border: 1px solid #cfcfcf;\n",
       "                    border-radius: 4px;\n",
       "                    text-align: center;\n",
       "                    position: relative;\">\n",
       "                  <div class=\"pb-text\" style=\"\n",
       "                      position: absolute;\n",
       "                      width: 100%;\">\n",
       "                    0%\n",
       "                  </div>\n",
       "                  <div class=\"pb-fill\" style=\"\n",
       "                      background-color: #bdd2e6;\n",
       "                      width: 0%;\">\n",
       "                    <style type=\"text/css\" scoped=\"scoped\">\n",
       "                        @keyframes pb-fill-anim {\n",
       "                            0% { background-position: 0 0; }\n",
       "                            100% { background-position: 100px 0; }\n",
       "                        }\n",
       "                    </style>\n",
       "                    &nbsp;\n",
       "                  </div>\n",
       "                </div>"
      ],
      "text/plain": [
       "HtmlProgressBar cannot be displayed. Please use the TerminalProgressBar. It can be enabled with `nengo.rc.set('progress', 'progress_bar', 'nengo.utils.progress.TerminalProgressBar')`."
      ]
     },
     "metadata": {},
     "output_type": "display_data"
    },
    {
     "data": {
      "application/javascript": [
       "\n",
       "              (function () {\n",
       "                  var root = document.getElementById('13ca051b-369e-42e6-9942-6eb27c34b55f');\n",
       "                  var text = root.getElementsByClassName('pb-text')[0];\n",
       "                  var fill = root.getElementsByClassName('pb-fill')[0];\n",
       "\n",
       "                  text.innerHTML = 'Simulation finished in 0:00:01.';\n",
       "                  \n",
       "            if (100.0 > 0.) {\n",
       "                fill.style.transition = 'width 0.1s linear';\n",
       "            } else {\n",
       "                fill.style.transition = 'none';\n",
       "            }\n",
       "\n",
       "            fill.style.width = '100.0%';\n",
       "            fill.style.animation = 'none';\n",
       "            fill.style.backgroundImage = 'none'\n",
       "        \n",
       "                  \n",
       "                fill.style.animation = 'none';\n",
       "                fill.style.backgroundImage = 'none';\n",
       "            \n",
       "              })();\n",
       "        "
      ],
      "text/plain": [
       "<IPython.core.display.Javascript object>"
      ]
     },
     "metadata": {},
     "output_type": "display_data"
    }
   ],
   "source": [
    "sim = nengo.Simulator(model)\n",
    "with sim:\n",
    "    sim.run(2.0)\n"
   ]
  },
  {
   "cell_type": "code",
   "execution_count": 179,
   "metadata": {},
   "outputs": [
    {
     "data": {
      "text/plain": [
       "<matplotlib.legend.Legend at 0x20e1f30ee48>"
      ]
     },
     "execution_count": 179,
     "metadata": {},
     "output_type": "execute_result"
    },
    {
     "data": {
      "image/png": "[encoded data removed]",
      "text/plain": [
       "<matplotlib.figure.Figure at 0x20e1f2d8208>"
      ]
     },
     "metadata": {},
     "output_type": "display_data"
    },
    {
     "name": "stderr",
     "output_type": "stream",
     "text": [
      "ERROR:nengo_gui.server:Error response\n",
      "Traceback (most recent call last):\n",
      "  File \"c:\\users\\terry\\documents\\github\\nengo_gui\\nengo_gui\\server.py\", line 412, in do_GET\n",
      "    self.http_GET()\n",
      "  File \"c:\\users\\terry\\documents\\github\\nengo_gui\\nengo_gui\\guibackend.py\", line 137, in http_GET\n",
      "    server.HttpWsRequestHandler.http_GET(self)\n",
      "  File \"c:\\users\\terry\\documents\\github\\nengo_gui\\nengo_gui\\server.py\", line 428, in http_GET\n",
      "    response = getattr(self, command)()\n",
      "  File \"c:\\users\\terry\\documents\\github\\nengo_gui\\nengo_gui\\guibackend.py\", line 86, in auth_checked\n",
      "    return fn(inst)\n",
      "  File \"c:\\users\\terry\\documents\\github\\nengo_gui\\nengo_gui\\guibackend.py\", line 233, in serve_main\n",
      "    page = self.server.create_page(filename, reset_cfg=reset_cfg)\n",
      "  File \"c:\\users\\terry\\documents\\github\\nengo_gui\\nengo_gui\\guibackend.py\", line 457, in create_page\n",
      "    reset_cfg=reset_cfg)\n",
      "  File \"c:\\users\\terry\\documents\\github\\nengo_gui\\nengo_gui\\page.py\", line 114, in __init__\n",
      "    self.load()\n",
      "  File \"c:\\users\\terry\\documents\\github\\nengo_gui\\nengo_gui\\page.py\", line 172, in load\n",
      "    self.name_finder = nengo_gui.NameFinder(self.locals, self.model)\n",
      "  File \"c:\\users\\terry\\documents\\github\\nengo_gui\\nengo_gui\\namefinder.py\", line 13, in __init__\n",
      "    self.find_names(net)\n",
      "  File \"c:\\users\\terry\\documents\\github\\nengo_gui\\nengo_gui\\namefinder.py\", line 16, in find_names\n",
      "    net_name = self.known_name[net]\n",
      "KeyError: <Network (unlabeled) at 0x20e1d516048>\n"
     ]
    }
   ],
   "source": [
    "plt.plot(sim.trange(), sim.data[p_decision], label='decision')\n",
    "plt.plot(sim.trange(), sim.data[p_belief][:,0], label='belief prob')\n",
    "plt.plot(sim.trange(), sim.data[p_belief][:,1], label='belief value')\n",
    "plt.ylim(-1.5, 1.5)\n",
    "plt.legend()"
   ]
  },
  {
   "cell_type": "code",
   "execution_count": 128,
   "metadata": {},
   "outputs": [
    {
     "data": {
      "text/html": [
       "\n",
       "            <script type=\"text/javascript\" id=\"5dc17c00-ce01-43d7-97fb-521c0ff2bd50\">\n",
       "            {\n",
       "                let req = new XMLHttpRequest();\n",
       "                req.addEventListener(\"load\", function() {\n",
       "                    if (this.status != 200 && this.response != 'OK') {\n",
       "                        let p = document.getElementById('5dc17c00-ce01-43d7-97fb-521c0ff2bd50').parentNode;\n",
       "                        p.innerHTML +=\n",
       "                            'The nengo_gui.jupyter notebook server ' +\n",
       "                            'extension was not loaded. Please activate it ' +\n",
       "                            'with the following command:' +\n",
       "                            '<pre>jupyter serverextension enable ' +\n",
       "                            'nengo_gui.jupyter</pre>';\n",
       "                        p.classList.add('output_stderr');\n",
       "                    }\n",
       "                });\n",
       "                req.open('GET', './nengo/check', true);\n",
       "                req.send();\n",
       "            }\n",
       "            </script>\n",
       "        "
      ],
      "text/plain": [
       "<IPython.core.display.HTML object>"
      ]
     },
     "metadata": {},
     "output_type": "display_data"
    },
    {
     "data": {
      "application/vdom.v1+json": {
       "attributes": {
        "id": "75fa8df7-39d5-4285-98b7-85e5f7087cc9"
       },
       "children": [
        {
         "attributes": {
          "allowfullscreen": "allowfullscreen",
          "class": "cell",
          "frameborder": "0",
          "height": "600",
          "src": "./nengo/62963/?token=f2b8bbc50815beb9a23fc8e7c0b7e74664acf70a768eaf2e",
          "style": {
           "border": "1px solid #eee",
           "boxSizing": "border-box"
          },
          "width": "100%"
         },
         "tagName": "iframe"
        }
       ],
       "tagName": "div"
      },
      "text/html": [
       "\n",
       "                <div id=\"57abf37f-2ffc-4357-a6b2-3258998904e9\">\n",
       "                    <iframe\n",
       "                        src=\"./nengo/62963/?token=f2b8bbc50815beb9a23fc8e7c0b7e74664acf70a768eaf2e\"\n",
       "                        width=\"100%\"\n",
       "                        height=\"600\"\n",
       "                        frameborder=\"0\"\n",
       "                        class=\"cell\"\n",
       "                        style=\"border: 1px solid #eee; box-sizing: border-box;\"\n",
       "                        allowfullscreen></iframe>\n",
       "                </div>\n",
       "            "
      ]
     },
     "metadata": {},
     "output_type": "display_data"
    }
   ],
   "source": [
    "import nengo_gui.ipython\n",
    "nengo_gui.ipython.IPythonViz(model)"
   ]
  },
  {
   "cell_type": "code",
   "execution_count": null,
   "metadata": {
    "collapsed": true
   },
   "outputs": [],
   "source": []
  }
 ],
 "metadata": {
  "kernelspec": {
   "display_name": "Python 3",
   "language": "python",
   "name": "python3"
  },
  "language_info": {
   "codemirror_mode": {
    "name": "ipython",
    "version": 3
   },
   "file_extension": ".py",
   "mimetype": "text/x-python",
   "name": "python",
   "nbconvert_exporter": "python",
   "pygments_lexer": "ipython3",
   "version": "3.6.1"
  }
 },
 "nbformat": 4,
 "nbformat_minor": 2
}
